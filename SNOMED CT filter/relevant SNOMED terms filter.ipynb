{
 "cells": [
  {
   "cell_type": "code",
   "execution_count": 74,
   "metadata": {},
   "outputs": [],
   "source": [
    "import pandas as pd\n",
    "import json"
   ]
  },
  {
   "cell_type": "code",
   "execution_count": 10,
   "metadata": {},
   "outputs": [
    {
     "name": "stderr",
     "output_type": "stream",
     "text": [
      "/Users/shek/anaconda3/envs/medcatenv/lib/python3.8/site-packages/numpy/lib/arraysetops.py:580: FutureWarning: elementwise comparison failed; returning scalar instead, but in the future will perform elementwise comparison\n",
      "  mask |= (ar1 == a)\n"
     ]
    }
   ],
   "source": [
    "snomed_file = pd.read_csv(\"snomed_cdb_csv_SNOMED-CT-full_UK_drug_ext_Release_20200930.csv\", index_col='Unnamed: 0')"
   ]
  },
  {
   "cell_type": "code",
   "execution_count": 33,
   "metadata": {},
   "outputs": [],
   "source": [
    "def find_name(snomedcode):\n",
    "    \"\"\"\n",
    "    Converts SNOMED code to Fully specified name and finds any Synonyms\n",
    "    \"\"\"\n",
    "    df = snomed_file[(snomed_file['cui'] == snomedcode) & (snomed_file['tty'] == 1)]\n",
    "    concept_name = df['str'].values\n",
    "    return f\"{''.join(concept_name)}\"\n",
    "\n",
    "def find_syn(snomedcode):\n",
    "    \"\"\"\n",
    "    Converts SNOMED code and finds all Synonyms. Not including concept name\n",
    "    \"\"\"\n",
    "    df = snomed_file[(snomed_file['cui'] == snomedcode) & (snomed_file['tty'] == 0)]\n",
    "    synonym = df['str'].tolist()\n",
    "    return f\"{'; '.join(synonym)}\""
   ]
  },
  {
   "cell_type": "code",
   "execution_count": 43,
   "metadata": {},
   "outputs": [],
   "source": [
    "with open(\"20200930_isa_rela_pt2ch.json\",\"r\") as jsonfile:\n",
    "    pt2ch = json.load(jsonfile)"
   ]
  },
  {
   "cell_type": "code",
   "execution_count": 51,
   "metadata": {},
   "outputs": [],
   "source": [
    "def get_all_children(sctid):\n",
    "    \"\"\"\n",
    "    Get all children of a snomed term\n",
    "    :param sctid: SCTID\n",
    "    :return: All snomed children\n",
    "    \"\"\"\n",
    "    result = list()\n",
    "    stack = [sctid]\n",
    "    while len(stack) != 0:\n",
    "        current_snomed = stack.pop()\n",
    "        current_snomed_parent = pt2ch.get(current_snomed, [])\n",
    "        stack.extend(current_snomed_parent)\n",
    "        result.append(current_snomed)\n",
    "        result = list(set(result))\n",
    "    return result"
   ]
  },
  {
   "cell_type": "code",
   "execution_count": 54,
   "metadata": {},
   "outputs": [],
   "source": [
    "telemetry_root_concept = 'S-292003'"
   ]
  },
  {
   "cell_type": "code",
   "execution_count": 55,
   "metadata": {
    "scrolled": true
   },
   "outputs": [],
   "source": [
    "telemetry_filter = get_all_children(telemetry_root_concept)"
   ]
  },
  {
   "cell_type": "code",
   "execution_count": 63,
   "metadata": {},
   "outputs": [],
   "source": [
    "medcatv1_telemetry_filter = []\n",
    "for sctid in telemetry_filter:\n",
    "    sctid = sctid.replace(\"S-\", \"\")\n",
    "    medcatv1_telemetry_filter.append(sctid)\n",
    "    "
   ]
  },
  {
   "cell_type": "code",
   "execution_count": 75,
   "metadata": {},
   "outputs": [],
   "source": [
    "with open(\"20210217_telemetry_filter.json\", \"w\") as outfile:\n",
    "    json.dump(medcatv1_telemetry_filter, outfile)"
   ]
  },
  {
   "cell_type": "code",
   "execution_count": null,
   "metadata": {},
   "outputs": [],
   "source": []
  },
  {
   "cell_type": "code",
   "execution_count": 56,
   "metadata": {},
   "outputs": [
    {
     "name": "stdout",
     "output_type": "stream",
     "text": [
      "Focal recruiting discharge (finding)\n",
      "Burst suppression (finding)\n",
      "Asymmetric electroencephalogram (finding)\n",
      "Focal continuous theta activity (finding)\n",
      "Light-induced electroencephalogram abnormality (finding)\n",
      "Electrocerebral silence (finding)\n",
      "Generalized atypical spike wave (finding)\n",
      "Small sharp transients during sleep (finding)\n",
      "Isoelectric recording (finding)\n",
      "Asymmetrical mu activity (finding)\n",
      "Low amplitude six per second spike wave (finding)\n",
      "Alpha amplitude asymmetry (finding)\n",
      "Sound-induced electroencephalogram abnormality (finding)\n",
      "Generalized intermittent theta activity (finding)\n",
      "Finding of generalized electroencephalogram pattern (finding)\n",
      "Focal continuous electroencephalogram abnormality (finding)\n",
      "Electroencephalogram abnormality with seizure (finding)\n",
      "Continuous periodic complexes (finding)\n",
      "Electroencephalogram abnormality without seizure (finding)\n",
      "Temporal slowing (finding)\n",
      "Occipital intermittent rhythmic delta activity (finding)\n",
      "Intermittent periodic complexes (finding)\n",
      "Focal episodic sharp waves (finding)\n",
      "Focal reduction of electroencephalogram activity (finding)\n",
      "Periodic lateralized epileptiform discharges (finding)\n",
      "Focal episodic spike wave (finding)\n",
      "Frontal intermittent rhythmic delta activity (finding)\n",
      "Periodic complexes (finding)\n",
      "Excessive overbreathing response (finding)\n",
      "Generalized electroencephalogram amplitude asymmetry (finding)\n",
      "Rhythmic mid-temporal discharge (finding)\n",
      "Low frequency alpha activity (finding)\n",
      "Electroencephalogram finding (finding)\n",
      "Focal episodic electroencephalogram abnormality (finding)\n",
      "Generalized episodic electroencephalogram abnormality (finding)\n",
      "Generalized intermittent delta activity (finding)\n",
      "Electroencephalogram artifact - technical problems (finding)\n",
      "Electroencephalogram normal (finding)\n",
      "Bilateral periodic epileptiform discharges (finding)\n",
      "Dominant delta activity (finding)\n",
      "Generalized continuous electroencephalogram abnormality (finding)\n",
      "Low frequency theta activity (finding)\n",
      "Asymmetric beta activity (finding)\n",
      "Low frequency delta activity (finding)\n",
      "Generalized slow spike wave (less than three per second) (finding)\n",
      "Dominant alpha activity (finding)\n",
      "Dominant beta activity (finding)\n",
      "Prolonged overbreathing response (finding)\n",
      "Finding of electroencephalogram symmetry (finding)\n",
      "Positive spikes (including 14 and 6 per second) (finding)\n",
      "Low amplitude electroencephalogram tracing (finding)\n",
      "Electroencephalogram artifact (finding)\n",
      "Focal rolandic spikes (finding)\n",
      "Focal spikes (finding)\n",
      "Triphasic waves (finding)\n",
      "Focal episodic spikes (finding)\n",
      "Loss of reactivity (finding)\n",
      "Electroencephalogram artifact - patient movement (finding)\n",
      "Focal episodic spike wave with secondary generalization (finding)\n",
      "Beta coma type recording (finding)\n",
      "Alpha frequency asymmetry (finding)\n",
      "Alpha coma type recording (finding)\n",
      "Generalized multifocal spikes (finding)\n",
      "Generalized epileptiform discharges (finding)\n",
      "Trace alternant electroencephalogram pattern (finding)\n",
      "Electroencephalogram abnormal (finding)\n",
      "Electroencephalogram pattern of uncertain significance (finding)\n",
      "Low frequency background activity (finding)\n",
      "Focal sharp waves (finding)\n",
      "Generalized three per second spike wave (finding)\n",
      "Finding of focal electroencephalogram pattern (finding)\n",
      "Subclinical rhythmical electroencephalogram discharges in adults (finding)\n",
      "Dominant theta activity (finding)\n",
      "Focal continuous delta activity (finding)\n",
      "Generalized electroencephalogram frequency asymmetry (finding)\n",
      "Focal episodic delta activity (finding)\n",
      "Focal episodic theta activity (finding)\n",
      "Finding of dominant electroencephalogram frequency (finding)\n"
     ]
    }
   ],
   "source": [
    "for a in telemetry_filter:\n",
    "    print(find_name(a))"
   ]
  },
  {
   "cell_type": "code",
   "execution_count": 3,
   "metadata": {},
   "outputs": [
    {
     "name": "stdout",
     "output_type": "stream",
     "text": [
      "20200930_findingsite_rela_disease2site.json\r\n",
      "20200930_isa_rela_pt2ch.json\r\n",
      "relevant SNOMED terms filter.ipynb\r\n",
      "snomed_cdb_csv_SNOMED-CT-full_UK_drug_ext_Release_20200930.csv\r\n"
     ]
    }
   ],
   "source": [
    "!ls"
   ]
  },
  {
   "cell_type": "code",
   "execution_count": null,
   "metadata": {},
   "outputs": [],
   "source": []
  }
 ],
 "metadata": {
  "kernelspec": {
   "display_name": "Python 3",
   "language": "python",
   "name": "python3"
  },
  "language_info": {
   "codemirror_mode": {
    "name": "ipython",
    "version": 3
   },
   "file_extension": ".py",
   "mimetype": "text/x-python",
   "name": "python",
   "nbconvert_exporter": "python",
   "pygments_lexer": "ipython3",
   "version": "3.8.2"
  }
 },
 "nbformat": 4,
 "nbformat_minor": 1
}
