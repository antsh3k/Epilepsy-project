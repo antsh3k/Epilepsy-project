{
 "cells": [
  {
   "cell_type": "code",
   "execution_count": 1,
   "metadata": {},
   "outputs": [],
   "source": [
    "import os\n",
    "import pandas as pd\n",
    "from datetime import datetime\n",
    "import re\n",
    "import numpy as np"
   ]
  },
  {
   "cell_type": "code",
   "execution_count": 2,
   "metadata": {},
   "outputs": [],
   "source": [
    "data_path = \"../data/\""
   ]
  },
  {
   "cell_type": "code",
   "execution_count": 3,
   "metadata": {},
   "outputs": [],
   "source": [
    "df = pd.read_csv(os.path.join(data_path, \"20210616_recent_past_epilepsy_clinic_document_anns_with_ASD.csv\"))"
   ]
  },
  {
   "cell_type": "code",
   "execution_count": 4,
   "metadata": {},
   "outputs": [],
   "source": [
    "df.reset_index(drop=True, inplace=True)"
   ]
  },
  {
   "cell_type": "markdown",
   "metadata": {},
   "source": [
    "# Fix dates"
   ]
  },
  {
   "cell_type": "code",
   "execution_count": 5,
   "metadata": {},
   "outputs": [],
   "source": [
    "df['clinic_date'] = pd.to_datetime(df['clinic_date'])"
   ]
  },
  {
   "cell_type": "code",
   "execution_count": 6,
   "metadata": {},
   "outputs": [],
   "source": [
    "df = df.sort_values(by=['client_idcode', 'clinic_date'], ascending=False)"
   ]
  },
  {
   "cell_type": "code",
   "execution_count": 7,
   "metadata": {},
   "outputs": [
    {
     "name": "stdout",
     "output_type": "stream",
     "text": [
      " The number of unique patients are 9816\n"
     ]
    }
   ],
   "source": [
    "print(f\" The number of unique patients are {df['client_idcode'].nunique()}\")"
   ]
  },
  {
   "cell_type": "code",
   "execution_count": 8,
   "metadata": {},
   "outputs": [
    {
     "name": "stdout",
     "output_type": "stream",
     "text": [
      "The clinic dates range from 1957-08-25 00:00:00 to 2213-08-09 00:00:00\n"
     ]
    }
   ],
   "source": [
    "print(f\"The clinic dates range from {df['clinic_date'].min()} to {df['clinic_date'].max()}\")"
   ]
  },
  {
   "cell_type": "code",
   "execution_count": 9,
   "metadata": {},
   "outputs": [],
   "source": [
    "df['typed_on'] = df['body_analysed'].str.extract(r'Typed on (\\d{1,2}[a-z]{0,2} [A-z]{3,9} \\d{4})')"
   ]
  },
  {
   "cell_type": "code",
   "execution_count": 10,
   "metadata": {},
   "outputs": [],
   "source": [
    "df['entered_on'] = df['body_analysed'].str.extract(r'Entered on (\\d{1,2}[a-z]{0,2} [A-z]{3,9} \\d{4})')"
   ]
  },
  {
   "cell_type": "code",
   "execution_count": 11,
   "metadata": {},
   "outputs": [],
   "source": [
    "df['clinic_date2'] = df['body_analysed'].str.extract(r'clinic date.{1,3}(\\d{1,2}-\\d{2}-\\d{2,4})', flags=re.IGNORECASE)"
   ]
  },
  {
   "cell_type": "code",
   "execution_count": 12,
   "metadata": {},
   "outputs": [],
   "source": [
    "df['clinic_date2'] = pd.to_datetime(df['clinic_date2'], errors='coerce')"
   ]
  },
  {
   "cell_type": "code",
   "execution_count": 13,
   "metadata": {},
   "outputs": [],
   "source": [
    "df['typed_on'] = pd.to_datetime(df['typed_on'], errors='coerce')\n",
    "df['entered_on'] = pd.to_datetime(df['entered_on'], errors='coerce')"
   ]
  },
  {
   "cell_type": "code",
   "execution_count": 14,
   "metadata": {},
   "outputs": [
    {
     "data": {
      "text/plain": [
       "False"
      ]
     },
     "execution_count": 14,
     "metadata": {},
     "output_type": "execute_result"
    }
   ],
   "source": [
    "pd.notnull(df.iloc[24454,:]['entered_on'])"
   ]
  },
  {
   "cell_type": "code",
   "execution_count": 15,
   "metadata": {},
   "outputs": [
    {
     "data": {
      "text/plain": [
       "NaT"
      ]
     },
     "execution_count": 15,
     "metadata": {},
     "output_type": "execute_result"
    }
   ],
   "source": [
    "df.iloc[24454,:]['entered_on']"
   ]
  },
  {
   "cell_type": "code",
   "execution_count": 16,
   "metadata": {},
   "outputs": [],
   "source": [
    "#clean dates\n",
    "correct_clinic_date = []\n",
    "\n",
    "for i, row in df.iterrows():\n",
    "    if pd.notnull(row['typed_on']):\n",
    "        correct_clinic_date.append(row['typed_on'])\n",
    "    elif pd.notnull(row['entered_on']):\n",
    "        correct_clinic_date.append(row['entered_on'])\n",
    "    elif pd.notnull(row['clinic_date2']):\n",
    "        correct_clinic_date.append(row['clinic_date2'])\n",
    "    else:\n",
    "        correct_clinic_date.append(row['clinic_date'])\n",
    "    "
   ]
  },
  {
   "cell_type": "code",
   "execution_count": 17,
   "metadata": {},
   "outputs": [],
   "source": [
    "df['correct_clinic_date'] = pd.to_datetime(correct_clinic_date)"
   ]
  },
  {
   "cell_type": "code",
   "execution_count": 18,
   "metadata": {},
   "outputs": [],
   "source": [
    "df.iloc[2628, -1] = \"26-11-2019\""
   ]
  },
  {
   "cell_type": "code",
   "execution_count": 19,
   "metadata": {},
   "outputs": [],
   "source": [
    "# filter clinic dates by a range\n",
    "df = df[(df['correct_clinic_date']>\"2013-01-01\")&(df['correct_clinic_date']<\"2020-01-01\")]"
   ]
  },
  {
   "cell_type": "code",
   "execution_count": 20,
   "metadata": {},
   "outputs": [],
   "source": [
    "# remove irrelevant cols\n",
    "\n",
    "df.drop(['clinic_date', 'typed_on', 'entered_on', 'clinic_date2'], axis=1, inplace=True)"
   ]
  },
  {
   "cell_type": "code",
   "execution_count": 22,
   "metadata": {
    "scrolled": true
   },
   "outputs": [
    {
     "name": "stdout",
     "output_type": "stream",
     "text": [
      "[0, 'id']\n",
      "[1, 'client_idcode']\n",
      "[2, 'documentoutput_doc_dob']\n",
      "[3, 'client_dob']\n",
      "[4, 'client_gendercode']\n",
      "[5, 'client_racecode']\n",
      "[6, 'document_filename']\n",
      "[7, 'updatetime']\n",
      "[8, 'document_dateadded']\n",
      "[9, 'body_analysed']\n",
      "[10, 'clientvisit_providerdisplayname_analysed']\n",
      "[11, 'clientvisit_touchedwhen']\n",
      "[12, 'client_createdwhen']\n",
      "[13, 'document_description']\n",
      "[14, 'clientvisit_typecode']\n",
      "[15, 'clientvisit_guid']\n",
      "[16, 'Epilepsy']\n",
      "[17, 'epilepsy_class_Unknown']\n",
      "[18, 'epilepsy_class_Focal']\n",
      "[19, 'epilepsy_class_Generalised']\n",
      "[20, 'epilepsy_class_Combined generalised and focal']\n",
      "[21, 'epilepsy_class_None']\n",
      "[22, 'epilepsy_class_seizureonset_Unknown']\n",
      "[23, 'epilepsy_class_seizureonset_Focal']\n",
      "[24, 'epilepsy_class_seizureonset_Generalised']\n",
      "[25, 'epilepsy_class_seizureonset_None']\n",
      "[26, 'aetiology_Unknown']\n",
      "[27, 'aetiology_Unknown presumed genetic']\n",
      "[28, 'aetiology_Genetic']\n",
      "[29, 'aetiology_Structural']\n",
      "[30, 'aetiology_Metabolic']\n",
      "[31, 'aetiology_Immune']\n",
      "[32, 'aetiology_Infectious']\n",
      "[33, 'aetiology_None']\n",
      "[34, 'pregnant']\n",
      "[35, 'breastfeeding mother']\n",
      "[36, 'unrinary incontinence']\n",
      "[37, 'intellectual disability']\n",
      "[38, 'anxiety']\n",
      "[39, 'depression']\n",
      "[40, 'lethargy']\n",
      "[41, 'headache']\n",
      "[42, 'dizziness']\n",
      "[43, 'rash']\n",
      "[44, 'nausea']\n",
      "[45, 'constipation']\n",
      "[46, 'diarrhea']\n",
      "[47, 'diabetes']\n",
      "[48, 'hypertension']\n",
      "[49, 'myocardial infarction']\n",
      "[50, 'cerebrovasular accident']\n",
      "[51, 'asthma']\n",
      "[52, 'chronic obstructive lung disorder']\n",
      "[53, 'fibromyalgia']\n",
      "[54, 'dementia']\n",
      "[55, 'liver failure']\n",
      "[56, 'kidney disease']\n",
      "[57, 'seizure']\n",
      "[58, 'dissociative convulsions']\n",
      "[59, 'seizure free']\n",
      "[60, 'Ketogenic diet']\n",
      "[61, 'Vagal nerve stimulator in situ']\n",
      "[62, 'DBS']\n",
      "[63, 'Acetazolamide']\n",
      "[64, 'Brivaracetam']\n",
      "[65, 'Cannabidiol']\n",
      "[66, 'Carbamazepine']\n",
      "[67, 'Clobazam']\n",
      "[68, 'Clonazepam']\n",
      "[69, 'Eslicarbazepine']\n",
      "[70, 'Ethosuximide']\n",
      "[71, 'Everolimus']\n",
      "[72, 'Gabapentin']\n",
      "[73, 'Lacosamide']\n",
      "[74, 'Lamotrigine']\n",
      "[75, 'Levetiracetam']\n",
      "[76, 'Oxcarbazepine']\n",
      "[77, 'Perampanel']\n",
      "[78, 'Phenobarbital']\n",
      "[79, 'Phenytoin']\n",
      "[80, 'Piracetam']\n",
      "[81, 'Pregabalin']\n",
      "[82, 'Primidone']\n",
      "[83, 'Rufinamide']\n",
      "[84, 'Stiripentol']\n",
      "[85, 'Tiagabine']\n",
      "[86, 'Topiramate']\n",
      "[87, 'Sodium_valproate']\n",
      "[88, 'Valproic_acid']\n",
      "[89, 'Valproate_semisodium']\n",
      "[90, 'Valproate']\n",
      "[91, 'Vigabatrin']\n",
      "[92, 'Zonisamide']\n",
      "[93, 'Desmethylparamethadione']\n",
      "[94, 'Potassium_bromide']\n",
      "[95, 'Sulthiamine']\n",
      "[96, 'Sodium_bromide']\n",
      "[97, 'Felbamate']\n",
      "[98, 'Dimethadione']\n",
      "[99, 'Barbiturate_antiepileptic']\n",
      "[100, 'Benzodiazepine']\n",
      "[101, 'Oxazolidinedione']\n",
      "[102, 'Succinimide']\n",
      "[103, 'Paraldehyde']\n",
      "[104, 'Beclamide']\n",
      "[105, 'Clomethiazole']\n",
      "[106, 'Caramiphen']\n",
      "[107, 'Phenacemide']\n",
      "[108, 'Magnesium_sulfate']\n",
      "[109, 'Hydantoin_derivative_anticonvulsant']\n",
      "[110, 'Retigabine']\n",
      "[111, 'Pheneturide']\n",
      "[112, 'Tiagabine_hydrochloride']\n",
      "[113, 'Tiagabine_hydrochloride_monohydrate']\n",
      "[114, 'Gabapentin_enacarbil']\n",
      "[115, 'Valpromide']\n",
      "[116, 'Autism']\n",
      "[117, 'correct_clinic_date']\n"
     ]
    }
   ],
   "source": [
    "for col in enumerate(df.columns):\n",
    "    print(list(col))"
   ]
  },
  {
   "cell_type": "code",
   "execution_count": 23,
   "metadata": {},
   "outputs": [],
   "source": [
    "relevant_cols = [1]\n",
    "relevant_cols.extend(range(16,117))"
   ]
  },
  {
   "cell_type": "code",
   "execution_count": 24,
   "metadata": {},
   "outputs": [],
   "source": [
    "agg_df = df.iloc[:, relevant_cols].groupby('client_idcode', as_index=False).agg(sum)"
   ]
  },
  {
   "cell_type": "markdown",
   "metadata": {},
   "source": [
    "# Descriptive stats"
   ]
  },
  {
   "cell_type": "code",
   "execution_count": 30,
   "metadata": {},
   "outputs": [
    {
     "name": "stdout",
     "output_type": "stream",
     "text": [
      "The clinic dates range from 2013-01-02 00:00:00 to 2019-12-30 00:00:00\n"
     ]
    }
   ],
   "source": [
    "print(f\"The clinic dates range from {df['correct_clinic_date'].min()} to {df['correct_clinic_date'].max()}\")"
   ]
  },
  {
   "cell_type": "code",
   "execution_count": 25,
   "metadata": {},
   "outputs": [
    {
     "name": "stdout",
     "output_type": "stream",
     "text": [
      " The number of unique patients are 9793\n"
     ]
    }
   ],
   "source": [
    "print(f\" The number of unique patients are {df['client_idcode'].nunique()}\")"
   ]
  },
  {
   "cell_type": "code",
   "execution_count": 26,
   "metadata": {},
   "outputs": [
    {
     "data": {
      "text/plain": [
       "client_idcode                          9793\n",
       "Epilepsy                               4011\n",
       "epilepsy_class_Unknown                 2854\n",
       "epilepsy_class_Focal                   1592\n",
       "epilepsy_class_Generalised              718\n",
       "                                       ... \n",
       "Tiagabine_hydrochloride                   0\n",
       "Tiagabine_hydrochloride_monohydrate       0\n",
       "Gabapentin_enacarbil                      1\n",
       "Valpromide                                0\n",
       "Autism                                  653\n",
       "Length: 102, dtype: int64"
      ]
     },
     "execution_count": 26,
     "metadata": {},
     "output_type": "execute_result"
    }
   ],
   "source": [
    "agg_df.astype(bool).sum()"
   ]
  },
  {
   "cell_type": "code",
   "execution_count": 27,
   "metadata": {},
   "outputs": [
    {
     "data": {
      "text/plain": [
       "client_idcode                          4011\n",
       "Epilepsy                               4011\n",
       "epilepsy_class_Unknown                 2854\n",
       "epilepsy_class_Focal                   1592\n",
       "epilepsy_class_Generalised              718\n",
       "                                       ... \n",
       "Tiagabine_hydrochloride                   0\n",
       "Tiagabine_hydrochloride_monohydrate       0\n",
       "Gabapentin_enacarbil                      0\n",
       "Valpromide                                0\n",
       "Autism                                  403\n",
       "Length: 102, dtype: int64"
      ]
     },
     "execution_count": 27,
     "metadata": {},
     "output_type": "execute_result"
    }
   ],
   "source": [
    "# with epilepsy\n",
    "agg_df[agg_df['Epilepsy']>0].astype(bool).sum()"
   ]
  },
  {
   "cell_type": "code",
   "execution_count": 31,
   "metadata": {},
   "outputs": [
    {
     "data": {
      "text/plain": [
       "client_idcode                          1425\n",
       "Epilepsy                               1425\n",
       "epilepsy_class_Unknown                 1031\n",
       "epilepsy_class_Focal                    659\n",
       "epilepsy_class_Generalised              285\n",
       "                                       ... \n",
       "Tiagabine_hydrochloride                   0\n",
       "Tiagabine_hydrochloride_monohydrate       0\n",
       "Gabapentin_enacarbil                      0\n",
       "Valpromide                                0\n",
       "Autism                                  165\n",
       "Length: 102, dtype: int64"
      ]
     },
     "execution_count": 31,
     "metadata": {},
     "output_type": "execute_result"
    }
   ],
   "source": [
    "# with epilepsy but seizure free\n",
    "agg_df[(agg_df['Epilepsy']>0)&(agg_df['seizure free']>0)].astype(bool).sum()"
   ]
  },
  {
   "cell_type": "code",
   "execution_count": 33,
   "metadata": {},
   "outputs": [
    {
     "data": {
      "text/plain": [
       "client_idcode                          6810\n",
       "Epilepsy                               4011\n",
       "epilepsy_class_Unknown                 2854\n",
       "epilepsy_class_Focal                   1592\n",
       "epilepsy_class_Generalised              718\n",
       "                                       ... \n",
       "Tiagabine_hydrochloride                   0\n",
       "Tiagabine_hydrochloride_monohydrate       0\n",
       "Gabapentin_enacarbil                      1\n",
       "Valpromide                                0\n",
       "Autism                                  548\n",
       "Length: 102, dtype: int64"
      ]
     },
     "execution_count": 33,
     "metadata": {},
     "output_type": "execute_result"
    }
   ],
   "source": [
    "# with epilepsy or seizures\n",
    "agg_df[(agg_df['Epilepsy']>0)|(agg_df['seizure']>0)].astype(bool).sum()"
   ]
  },
  {
   "cell_type": "code",
   "execution_count": 29,
   "metadata": {},
   "outputs": [
    {
     "data": {
      "text/plain": [
       "client_idcode                          2983\n",
       "Epilepsy                                  0\n",
       "epilepsy_class_Unknown                    0\n",
       "epilepsy_class_Focal                      0\n",
       "epilepsy_class_Generalised                0\n",
       "                                       ... \n",
       "Tiagabine_hydrochloride                   0\n",
       "Tiagabine_hydrochloride_monohydrate       0\n",
       "Gabapentin_enacarbil                      0\n",
       "Valpromide                                0\n",
       "Autism                                  105\n",
       "Length: 102, dtype: int64"
      ]
     },
     "execution_count": 29,
     "metadata": {},
     "output_type": "execute_result"
    }
   ],
   "source": [
    "# without epilepsy or seizures\n",
    "agg_df[(agg_df['Epilepsy']==0)&(agg_df['seizure']==0)].astype(bool).sum()"
   ]
  },
  {
   "cell_type": "code",
   "execution_count": null,
   "metadata": {},
   "outputs": [],
   "source": []
  },
  {
   "cell_type": "markdown",
   "metadata": {},
   "source": [
    "# Classifier"
   ]
  },
  {
   "cell_type": "code",
   "execution_count": null,
   "metadata": {},
   "outputs": [],
   "source": [
    "from sklearn.model_selection import train_test_split\n",
    "import xgboost as xgb\n",
    "from sklearn import metrics"
   ]
  },
  {
   "cell_type": "code",
   "execution_count": null,
   "metadata": {},
   "outputs": [],
   "source": []
  },
  {
   "cell_type": "code",
   "execution_count": null,
   "metadata": {},
   "outputs": [],
   "source": [
    "TODO: edit this!!\n",
    "train, test, y_train, y_test = train_test_split(data.drop([\"ARRIVAL_DELAY\"], axis=1), data[\"ARRIVAL_DELAY\"],\n",
    "                                                random_state=10, test_size=0.25)"
   ]
  },
  {
   "cell_type": "code",
   "execution_count": null,
   "metadata": {},
   "outputs": [],
   "source": [
    "def auc(m, train, test): \n",
    "    return (metrics.roc_auc_score(y_train,m.predict_proba(train)[:,1]),\n",
    "                            metrics.roc_auc_score(y_test,m.predict_proba(test)[:,1]))"
   ]
  },
  {
   "cell_type": "code",
   "execution_count": null,
   "metadata": {},
   "outputs": [],
   "source": [
    "# Parameter Tuning\n",
    "model = xgb.XGBClassifier()\n",
    "param_dist = {\"max_depth\": [10,30,50],\n",
    "              \"min_child_weight\" : [1,3,6],\n",
    "              \"n_estimators\": [200],\n",
    "              \"learning_rate\": [0.05, 0.1,0.16],}\n",
    "grid_search = GridSearchCV(model, param_grid=param_dist, cv = 3, \n",
    "                                   verbose=10, n_jobs=-1)\n",
    "grid_search.fit(train, y_train)"
   ]
  },
  {
   "cell_type": "code",
   "execution_count": null,
   "metadata": {},
   "outputs": [],
   "source": [
    "grid_search.best_estimator_"
   ]
  },
  {
   "cell_type": "code",
   "execution_count": null,
   "metadata": {},
   "outputs": [],
   "source": [
    "model = xgb.XGBClassifier(max_depth=50, min_child_weight=1,  n_estimators=200,\\\n",
    "                          n_jobs=-1 , verbose=1,learning_rate=0.16)"
   ]
  },
  {
   "cell_type": "code",
   "execution_count": null,
   "metadata": {},
   "outputs": [],
   "source": [
    "model.fit(train,y_train)"
   ]
  },
  {
   "cell_type": "code",
   "execution_count": null,
   "metadata": {},
   "outputs": [],
   "source": [
    "auc(model, train, test)"
   ]
  },
  {
   "cell_type": "code",
   "execution_count": null,
   "metadata": {},
   "outputs": [],
   "source": []
  }
 ],
 "metadata": {
  "kernelspec": {
   "display_name": "Python 3 (ipykernel)",
   "language": "python",
   "name": "python3"
  },
  "language_info": {
   "codemirror_mode": {
    "name": "ipython",
    "version": 3
   },
   "file_extension": ".py",
   "mimetype": "text/x-python",
   "name": "python",
   "nbconvert_exporter": "python",
   "pygments_lexer": "ipython3",
   "version": "3.7.3"
  }
 },
 "nbformat": 4,
 "nbformat_minor": 1
}
