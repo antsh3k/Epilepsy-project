{
 "cells": [
  {
   "cell_type": "code",
   "execution_count": 34,
   "metadata": {},
   "outputs": [],
   "source": [
    "import os\n",
    "import pandas as pd\n",
    "import datetime"
   ]
  },
  {
   "cell_type": "code",
   "execution_count": 3,
   "metadata": {},
   "outputs": [],
   "source": [
    "data_path = \"../data/\""
   ]
  },
  {
   "cell_type": "code",
   "execution_count": 5,
   "metadata": {},
   "outputs": [],
   "source": [
    "df = pd.read_excel(os.path.join(data_path, \"20210616_recent_past_epilepsy_clinic_document_anns_20210803.xlsx\"))"
   ]
  },
  {
   "cell_type": "code",
   "execution_count": 8,
   "metadata": {},
   "outputs": [],
   "source": [
    "df['clinic_date'] = pd.to_datetime(df['clinic_date'])"
   ]
  },
  {
   "cell_type": "code",
   "execution_count": 14,
   "metadata": {},
   "outputs": [],
   "source": [
    "df = df.sort_values(by=['client_idcode', 'clinic_date'], ascending=False)"
   ]
  },
  {
   "cell_type": "code",
   "execution_count": 18,
   "metadata": {},
   "outputs": [
    {
     "name": "stdout",
     "output_type": "stream",
     "text": [
      " The number of unique patients are 4228\n"
     ]
    }
   ],
   "source": [
    "print(f\" The number of unique patients are {df['client_idcode'].nunique()}\")"
   ]
  },
  {
   "cell_type": "code",
   "execution_count": 24,
   "metadata": {},
   "outputs": [
    {
     "name": "stdout",
     "output_type": "stream",
     "text": [
      "The clinic dates range from 1993-07-24 00:00:00 to 2213-08-09 00:00:00\n"
     ]
    }
   ],
   "source": [
    "print(f\"The clinic dates range from {df['clinic_date'].min()} to {df['clinic_date'].max()}\")"
   ]
  },
  {
   "cell_type": "code",
   "execution_count": 33,
   "metadata": {},
   "outputs": [
    {
     "data": {
      "text/plain": [
       "1543    1993-07-24\n",
       "15287   1998-01-30\n",
       "9881    2004-11-23\n",
       "9040    2005-07-26\n",
       "7230    2006-10-22\n",
       "           ...    \n",
       "14957   2020-07-29\n",
       "16409   2020-10-07\n",
       "14096   2091-10-01\n",
       "6405    2104-03-24\n",
       "4643    2213-08-09\n",
       "Name: clinic_date, Length: 16559, dtype: datetime64[ns]"
      ]
     },
     "execution_count": 33,
     "metadata": {},
     "output_type": "execute_result"
    }
   ],
   "source": [
    "# TODO: clean incorrect dates\n",
    "df.sort_values(by = 'clinic_date')['clinic_date']"
   ]
  },
  {
   "cell_type": "code",
   "execution_count": 43,
   "metadata": {},
   "outputs": [],
   "source": [
    "# filter clinic dates by a range\n",
    "df = df[(df['clinic_date']>\"2013-01-01\")&(df['clinic_date']<\"2020-01-01\")]"
   ]
  },
  {
   "cell_type": "code",
   "execution_count": 61,
   "metadata": {},
   "outputs": [
    {
     "name": "stdout",
     "output_type": "stream",
     "text": [
      "[0, 'id']\n",
      "[1, 'client_idcode']\n",
      "[2, 'clinic_date']\n",
      "[3, 'current_age']\n",
      "[4, 'documentoutput_doc_dob']\n",
      "[5, 'client_dob']\n",
      "[6, 'client_gendercode']\n",
      "[7, 'client_racecode']\n",
      "[8, 'updatetime']\n",
      "[9, 'document_dateadded']\n",
      "[10, 'clientvisit_providerdisplayname_analysed']\n",
      "[11, 'clientvisit_typecode']\n",
      "[12, 'clientvisit_guid']\n",
      "[13, 'Epilepsy']\n",
      "[14, 'epilepsy_class_Unknown']\n",
      "[15, 'epilepsy_class_Focal']\n",
      "[16, 'epilepsy_class_Generalised']\n",
      "[17, 'epilepsy_class_Combined generalised and focal']\n",
      "[18, 'epilepsy_class_None']\n",
      "[19, 'epilepsy_class_seizureonset_Unknown']\n",
      "[20, 'epilepsy_class_seizureonset_Focal']\n",
      "[21, 'epilepsy_class_seizureonset_Generalised']\n",
      "[22, 'epilepsy_class_seizureonset_None']\n",
      "[23, 'aetiology_Unknown']\n",
      "[24, 'aetiology_Unknown presumed genetic']\n",
      "[25, 'aetiology_Genetic']\n",
      "[26, 'aetiology_Structural']\n",
      "[27, 'aetiology_Metabolic']\n",
      "[28, 'aetiology_Immune']\n",
      "[29, 'aetiology_Infectious']\n",
      "[30, 'aetiology_None']\n",
      "[31, 'intellectual disability']\n",
      "[32, 'Autism']\n",
      "[33, 'anxiety']\n",
      "[34, 'depression']\n"
     ]
    }
   ],
   "source": [
    "for col in enumerate(df.columns):\n",
    "    print(list(col))"
   ]
  },
  {
   "cell_type": "code",
   "execution_count": 62,
   "metadata": {},
   "outputs": [],
   "source": [
    "relevant_cols = [\n",
    "    1,\n",
    "    13,\n",
    "    14,\n",
    "    15,\n",
    "    16,\n",
    "    17,\n",
    "    18,\n",
    "    19,\n",
    "    20,\n",
    "    21,\n",
    "    22,\n",
    "    23,\n",
    "    24,\n",
    "    25,\n",
    "    26,\n",
    "    27,\n",
    "    28,\n",
    "    29,\n",
    "    30,\n",
    "    31,\n",
    "    32,\n",
    "    33,\n",
    "    34,\n",
    "]"
   ]
  },
  {
   "cell_type": "code",
   "execution_count": 66,
   "metadata": {},
   "outputs": [],
   "source": [
    "agg_df = df.iloc[:, relevant_cols].groupby('client_idcode', as_index=False).agg(sum)"
   ]
  },
  {
   "cell_type": "code",
   "execution_count": 69,
   "metadata": {},
   "outputs": [
    {
     "data": {
      "text/plain": [
       "client_idcode                                    4205\n",
       "Epilepsy                                         1820\n",
       "epilepsy_class_Unknown                           1306\n",
       "epilepsy_class_Focal                              752\n",
       "epilepsy_class_Generalised                        402\n",
       "epilepsy_class_Combined generalised and focal      56\n",
       "epilepsy_class_None                                 0\n",
       "epilepsy_class_seizureonset_Unknown              1306\n",
       "epilepsy_class_seizureonset_Focal                 752\n",
       "epilepsy_class_seizureonset_Generalised           470\n",
       "epilepsy_class_seizureonset_None                    0\n",
       "aetiology_Unknown                                1650\n",
       "aetiology_Unknown presumed genetic                327\n",
       "aetiology_Genetic                                  46\n",
       "aetiology_Structural                                0\n",
       "aetiology_Metabolic                                 0\n",
       "aetiology_Immune                                    1\n",
       "aetiology_Infectious                                0\n",
       "aetiology_None                                      0\n",
       "intellectual disability                            44\n",
       "Autism                                            523\n",
       "anxiety                                           752\n",
       "depression                                        242\n",
       "dtype: int64"
      ]
     },
     "execution_count": 69,
     "metadata": {},
     "output_type": "execute_result"
    }
   ],
   "source": [
    "agg_df.astype(bool).sum()"
   ]
  },
  {
   "cell_type": "code",
   "execution_count": 87,
   "metadata": {},
   "outputs": [
    {
     "data": {
      "text/plain": [
       "client_idcode                                    1820\n",
       "Epilepsy                                         1820\n",
       "epilepsy_class_Unknown                           1306\n",
       "epilepsy_class_Focal                              752\n",
       "epilepsy_class_Generalised                        402\n",
       "epilepsy_class_Combined generalised and focal      56\n",
       "epilepsy_class_None                                 0\n",
       "epilepsy_class_seizureonset_Unknown              1306\n",
       "epilepsy_class_seizureonset_Focal                 752\n",
       "epilepsy_class_seizureonset_Generalised           470\n",
       "epilepsy_class_seizureonset_None                    0\n",
       "aetiology_Unknown                                1650\n",
       "aetiology_Unknown presumed genetic                327\n",
       "aetiology_Genetic                                  46\n",
       "aetiology_Structural                                0\n",
       "aetiology_Metabolic                                 0\n",
       "aetiology_Immune                                    1\n",
       "aetiology_Infectious                                0\n",
       "aetiology_None                                      0\n",
       "intellectual disability                            32\n",
       "Autism                                            324\n",
       "anxiety                                           388\n",
       "depression                                        150\n",
       "dtype: int64"
      ]
     },
     "execution_count": 87,
     "metadata": {},
     "output_type": "execute_result"
    }
   ],
   "source": [
    "# with epilepsy\n",
    "agg_df[agg_df['Epilepsy']>0].astype(bool).sum()"
   ]
  },
  {
   "cell_type": "code",
   "execution_count": 88,
   "metadata": {},
   "outputs": [
    {
     "data": {
      "text/plain": [
       "client_idcode                                    2385\n",
       "Epilepsy                                            0\n",
       "epilepsy_class_Unknown                              0\n",
       "epilepsy_class_Focal                                0\n",
       "epilepsy_class_Generalised                          0\n",
       "epilepsy_class_Combined generalised and focal       0\n",
       "epilepsy_class_None                                 0\n",
       "epilepsy_class_seizureonset_Unknown                 0\n",
       "epilepsy_class_seizureonset_Focal                   0\n",
       "epilepsy_class_seizureonset_Generalised             0\n",
       "epilepsy_class_seizureonset_None                    0\n",
       "aetiology_Unknown                                   0\n",
       "aetiology_Unknown presumed genetic                  0\n",
       "aetiology_Genetic                                   0\n",
       "aetiology_Structural                                0\n",
       "aetiology_Metabolic                                 0\n",
       "aetiology_Immune                                    0\n",
       "aetiology_Infectious                                0\n",
       "aetiology_None                                      0\n",
       "intellectual disability                            12\n",
       "Autism                                            199\n",
       "anxiety                                           364\n",
       "depression                                         92\n",
       "dtype: int64"
      ]
     },
     "execution_count": 88,
     "metadata": {},
     "output_type": "execute_result"
    }
   ],
   "source": [
    "# without epilepsy\n",
    "agg_df[agg_df['Epilepsy']==0].astype(bool).sum()"
   ]
  },
  {
   "cell_type": "code",
   "execution_count": null,
   "metadata": {},
   "outputs": [],
   "source": []
  }
 ],
 "metadata": {
  "kernelspec": {
   "display_name": "Python 3",
   "language": "python",
   "name": "python3"
  },
  "language_info": {
   "codemirror_mode": {
    "name": "ipython",
    "version": 3
   },
   "file_extension": ".py",
   "mimetype": "text/x-python",
   "name": "python",
   "nbconvert_exporter": "python",
   "pygments_lexer": "ipython3",
   "version": "3.8.2"
  }
 },
 "nbformat": 4,
 "nbformat_minor": 1
}
