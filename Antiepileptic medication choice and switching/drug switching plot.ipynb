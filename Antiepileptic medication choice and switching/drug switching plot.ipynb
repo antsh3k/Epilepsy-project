{
 "cells": [
  {
   "cell_type": "code",
   "execution_count": 1,
   "id": "52dd6aca",
   "metadata": {},
   "outputs": [],
   "source": [
    "import plotly.graph_objects as go\n",
    "import pandas as pd\n",
    "import urllib, json"
   ]
  },
  {
   "cell_type": "code",
   "execution_count": 2,
   "id": "bdedfd5d",
   "metadata": {},
   "outputs": [
    {
     "data": {
      "text/html": [
       "        <script type=\"text/javascript\">\n",
       "        window.PlotlyConfig = {MathJaxConfig: 'local'};\n",
       "        if (window.MathJax) {MathJax.Hub.Config({SVG: {font: \"STIX-Web\"}});}\n",
       "        if (typeof require !== 'undefined') {\n",
       "        require.undef(\"plotly\");\n",
       "        requirejs.config({\n",
       "            paths: {\n",
       "                'plotly': ['https://cdn.plot.ly/plotly-2.2.0.min']\n",
       "            }\n",
       "        });\n",
       "        require(['plotly'], function(Plotly) {\n",
       "            window._Plotly = Plotly;\n",
       "        });\n",
       "        }\n",
       "        </script>\n",
       "        "
      ]
     },
     "metadata": {},
     "output_type": "display_data"
    }
   ],
   "source": [
    "import numpy as np\n",
    "import plotly.graph_objs as go\n",
    "from plotly.offline import download_plotlyjs, init_notebook_mode, plot, iplot\n",
    "init_notebook_mode(connected=True)"
   ]
  },
  {
   "cell_type": "code",
   "execution_count": 8,
   "id": "7e6f3a02",
   "metadata": {},
   "outputs": [],
   "source": [
    "# preprocess data"
   ]
  },
  {
   "cell_type": "code",
   "execution_count": null,
   "id": "c51b5438",
   "metadata": {},
   "outputs": [],
   "source": []
  },
  {
   "cell_type": "code",
   "execution_count": 3,
   "id": "1a40e5bc",
   "metadata": {},
   "outputs": [],
   "source": [
    "# Nodes & links\n",
    "nodes = [['ID', 'Label', 'Color'],\n",
    "        [0,'AKJ Education','#4994CE'],\n",
    "        [1,'Amazon','#8A5988'],\n",
    "        [2,'Flipkart','#449E9E'],\n",
    "        [3,'Books','#7FC241'],\n",
    "        [4,'Computers & tablets','#D3D3D3'],\n",
    "        [5,'Other','#4994CE'],]"
   ]
  },
  {
   "cell_type": "code",
   "execution_count": 4,
   "id": "f60d8499",
   "metadata": {},
   "outputs": [],
   "source": [
    "# links with your data\n",
    "links = [['Source','Target','Value','Link Color'],\n",
    "\n",
    "        # AKJ\n",
    "        [0,3,2,'rgba(127, 194, 65, 0.2)'],\n",
    "        [0,4,2,'rgba(127, 194, 65, 0.2)'],\n",
    "\n",
    "        # Amazon\n",
    "        [1,3,1,'rgba(211, 211, 211, 0.5)'],\n",
    "        [1,4,1,'rgba(211, 211, 211, 0.5)'],\n",
    "        [1,5,1,'rgba(211, 211, 211, 0.5)'],\n",
    "\n",
    "        # Flipkart\n",
    "        [2,5,1,'rgba(253, 227, 212, 1)'],\n",
    "        [2,3,1,'rgba(253, 227, 212, 1)'],]"
   ]
  },
  {
   "cell_type": "code",
   "execution_count": 5,
   "id": "a2ffc7e4",
   "metadata": {},
   "outputs": [],
   "source": [
    "# Retrieve headers and build dataframes\n",
    "nodes_headers = nodes.pop(0)\n",
    "links_headers = links.pop(0)\n",
    "df_nodes = pd.DataFrame(nodes, columns = nodes_headers)\n",
    "df_links = pd.DataFrame(links, columns = links_headers)\n",
    "\n",
    "# Sankey plot setup\n",
    "data_trace = dict(\n",
    "    type='sankey',\n",
    "    domain = dict(\n",
    "      x =  [0,1],\n",
    "      y =  [0,1]\n",
    "    ),\n",
    "    orientation = \"h\",\n",
    "    valueformat = \".0f\",\n",
    "    node = dict(\n",
    "      pad = 10,\n",
    "    # thickness = 30,\n",
    "      line = dict(\n",
    "        color = \"black\",\n",
    "        width = 0\n",
    "      ),\n",
    "      label =  df_nodes['Label'].dropna(axis=0, how='any'),\n",
    "      color = df_nodes['Color']\n",
    "    ),\n",
    "    link = dict(\n",
    "      source = df_links['Source'].dropna(axis=0, how='any'),\n",
    "      target = df_links['Target'].dropna(axis=0, how='any'),\n",
    "      value = df_links['Value'].dropna(axis=0, how='any'),\n",
    "      color = df_links['Link Color'].dropna(axis=0, how='any'),\n",
    "  )\n",
    ")\n"
   ]
  },
  {
   "cell_type": "code",
   "execution_count": 6,
   "id": "396c18ff",
   "metadata": {},
   "outputs": [],
   "source": [
    "layout = dict(\n",
    "        title = \"Draw Sankey Diagram from dataframes\",\n",
    "    height = 772,\n",
    "    font = dict(\n",
    "      size = 10),)\n"
   ]
  },
  {
   "cell_type": "code",
   "execution_count": 7,
   "id": "ad96c443",
   "metadata": {},
   "outputs": [
    {
     "data": {
      "application/vnd.plotly.v1+json": {
       "config": {
        "linkText": "Export to plot.ly",
        "plotlyServerURL": "https://plot.ly",
        "showLink": false
       },
       "data": [
        {
         "domain": {
          "x": [
           0,
           1
          ],
          "y": [
           0,
           1
          ]
         },
         "link": {
          "color": [
           "rgba(127, 194, 65, 0.2)",
           "rgba(127, 194, 65, 0.2)",
           "rgba(211, 211, 211, 0.5)",
           "rgba(211, 211, 211, 0.5)",
           "rgba(211, 211, 211, 0.5)",
           "rgba(253, 227, 212, 1)",
           "rgba(253, 227, 212, 1)"
          ],
          "source": [
           0,
           0,
           1,
           1,
           1,
           2,
           2
          ],
          "target": [
           3,
           4,
           3,
           4,
           5,
           5,
           3
          ],
          "value": [
           2,
           2,
           1,
           1,
           1,
           1,
           1
          ]
         },
         "node": {
          "color": [
           "#4994CE",
           "#8A5988",
           "#449E9E",
           "#7FC241",
           "#D3D3D3",
           "#4994CE"
          ],
          "label": [
           "AKJ Education",
           "Amazon",
           "Flipkart",
           "Books",
           "Computers & tablets",
           "Other"
          ],
          "line": {
           "color": "black",
           "width": 0
          },
          "pad": 10
         },
         "orientation": "h",
         "type": "sankey",
         "valueformat": ".0f"
        }
       ],
       "layout": {
        "font": {
         "size": 10
        },
        "height": 772,
        "title": "Draw Sankey Diagram from dataframes"
       }
      },
      "text/html": [
       "<div>                            <div id=\"ab3c0fbe-4b6d-4724-8454-d1bbd5365d74\" class=\"plotly-graph-div\" style=\"height:772px; width:100%;\"></div>            <script type=\"text/javascript\">                require([\"plotly\"], function(Plotly) {                    window.PLOTLYENV=window.PLOTLYENV || {};                                    if (document.getElementById(\"ab3c0fbe-4b6d-4724-8454-d1bbd5365d74\")) {                    Plotly.newPlot(                        \"ab3c0fbe-4b6d-4724-8454-d1bbd5365d74\",                        [{\"domain\":{\"x\":[0,1],\"y\":[0,1]},\"link\":{\"color\":[\"rgba(127, 194, 65, 0.2)\",\"rgba(127, 194, 65, 0.2)\",\"rgba(211, 211, 211, 0.5)\",\"rgba(211, 211, 211, 0.5)\",\"rgba(211, 211, 211, 0.5)\",\"rgba(253, 227, 212, 1)\",\"rgba(253, 227, 212, 1)\"],\"source\":[0,0,1,1,1,2,2],\"target\":[3,4,3,4,5,5,3],\"value\":[2,2,1,1,1,1,1]},\"node\":{\"color\":[\"#4994CE\",\"#8A5988\",\"#449E9E\",\"#7FC241\",\"#D3D3D3\",\"#4994CE\"],\"label\":[\"AKJ Education\",\"Amazon\",\"Flipkart\",\"Books\",\"Computers & tablets\",\"Other\"],\"line\":{\"color\":\"black\",\"width\":0},\"pad\":10},\"orientation\":\"h\",\"type\":\"sankey\",\"valueformat\":\".0f\"}],                        {\"font\":{\"size\":10},\"height\":772,\"title\":\"Draw Sankey Diagram from dataframes\"},                        {\"responsive\": true}                    ).then(function(){\n",
       "                            \n",
       "var gd = document.getElementById('ab3c0fbe-4b6d-4724-8454-d1bbd5365d74');\n",
       "var x = new MutationObserver(function (mutations, observer) {{\n",
       "        var display = window.getComputedStyle(gd).display;\n",
       "        if (!display || display === 'none') {{\n",
       "            console.log([gd, 'removed!']);\n",
       "            Plotly.purge(gd);\n",
       "            observer.disconnect();\n",
       "        }}\n",
       "}});\n",
       "\n",
       "// Listen for the removal of the full notebook cells\n",
       "var notebookContainer = gd.closest('#notebook-container');\n",
       "if (notebookContainer) {{\n",
       "    x.observe(notebookContainer, {childList: true});\n",
       "}}\n",
       "\n",
       "// Listen for the clearing of the current output cell\n",
       "var outputEl = gd.closest('.output');\n",
       "if (outputEl) {{\n",
       "    x.observe(outputEl, {childList: true});\n",
       "}}\n",
       "\n",
       "                        })                };                });            </script>        </div>"
      ]
     },
     "metadata": {},
     "output_type": "display_data"
    }
   ],
   "source": [
    "fig = dict(data=[data_trace], layout=layout)\n",
    "iplot(fig, validate=False)"
   ]
  },
  {
   "cell_type": "code",
   "execution_count": null,
   "id": "c4b57ae5",
   "metadata": {},
   "outputs": [],
   "source": []
  }
 ],
 "metadata": {
  "kernelspec": {
   "display_name": "Python 3 (ipykernel)",
   "language": "python",
   "name": "python3"
  },
  "language_info": {
   "codemirror_mode": {
    "name": "ipython",
    "version": 3
   },
   "file_extension": ".py",
   "mimetype": "text/x-python",
   "name": "python",
   "nbconvert_exporter": "python",
   "pygments_lexer": "ipython3",
   "version": "3.7.3"
  }
 },
 "nbformat": 4,
 "nbformat_minor": 5
}
