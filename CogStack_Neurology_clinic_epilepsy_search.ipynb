{
 "cells": [
  {
   "cell_type": "code",
   "execution_count": 1,
   "metadata": {},
   "outputs": [
    {
     "data": {
      "text/plain": [
       "'/home/jovyan/work/tnm_request'"
      ]
     },
     "execution_count": 1,
     "metadata": {},
     "output_type": "execute_result"
    }
   ],
   "source": [
    "# import necessary packages \n",
    "import os\n",
    "import json\n",
    "os.getcwd() #get working directory, but need to import os first\n",
    "\n",
    "from credentials import username, password #must have credentials.py file\n",
    "\n",
    "from search import es_request "
   ]
  },
  {
   "cell_type": "code",
   "execution_count": 150,
   "metadata": {},
   "outputs": [],
   "source": [
    "#this is a json-based query => \"basicobs_itemname_analysed:\"histology\" AND textualObs:\"tnm\" AND client_idcode:\"P393592\"\"\n",
    "# query = {\"size\": 1000,\n",
    "#          \"query\": {\n",
    "#             \"bool\": {\n",
    "#                 \"must\":[ \n",
    "#                     {\"match\": {\"updatetime\":\"[2013-01-01, 00:00:00.000 TO 2019-10-24, 00:00:00.000]\"}},\n",
    "#                     {\"match\": {\"body_analysed\":\"epilepsy\"}},\n",
    "#                     {\"match\": {\"clientvisit_serviceguid\":'(\"4000001008111001\" OR \"4000001042111001\")'}},\n",
    "#                     {\"match\": {\"document_description\":'(\"letter\")'}}]\n",
    "#                 \"NOT\":[\n",
    "#                     {\"match\": {\"document_description\":'(\"report\" OR \"External Hospital Documents\" OR \"EPR scanned documents\" OR \"referrals\" OR \"referral\" OR \"result\" OR \"External Results\")'}}\n",
    "#                 ]\n",
    "\n",
    "#             }}}\n",
    "\n",
    "query = {\"size\": 10000,\n",
    "         \"query\": {\n",
    "            \"bool\": {\n",
    "                \"filter\":[\n",
    "                    {\"range\": {\"updatetime\": {\"gte\": \"2013-01-01\", \"lte\": \"2019-10-02\"}}}\n",
    "                ],\n",
    "                \"must\":[ \n",
    "#                    {\"match\": {\"updatetime\":'(\"2013-01-02\" TO \"2013-10-02\")'}},\n",
    "                    {\"match\": {\"body_analysed\":\"epilepsy\"}},\n",
    "                    {\"match\": {\"document_description\":\"letter\"}},\n",
    "                    {\"match\": {\"clientvisit_serviceguid\":'(\"4000001008111001\" OR \"4000001042111001\")'}}\n",
    "                    ],\n",
    "                \"must_not\":[\n",
    "                    {\"match\": {\"document_description\":'(\"report\" OR \"External Hospital Documents\" OR \"EPR scanned documents\" OR \"referrals\" OR \"referral\" OR \"result\" OR \"External Results\")'}}\n",
    "                ]\n",
    "\n",
    "            }}}\n",
    "\n"
   ]
  },
  {
   "cell_type": "code",
   "execution_count": 151,
   "metadata": {},
   "outputs": [],
   "source": [
    "# request to elastic search\n",
    "cogstack_search = es_request(json.dumps(query),\"epr_documents\") # shift-tab to find out function inputs\n",
    "# this shows a successful search, json dump runs it as a json string"
   ]
  },
  {
   "cell_type": "code",
   "execution_count": 145,
   "metadata": {},
   "outputs": [],
   "source": [
    "# specify outputfile name\n",
    "output_filename = 'cogstack_test_201910.txt'\n",
    "\n",
    "# write to JSON file\n",
    "with open(output_filename, 'w') as outfile:\n",
    "    json.dump(cogstack_search, outfile)"
   ]
  },
  {
   "cell_type": "code",
   "execution_count": null,
   "metadata": {},
   "outputs": [],
   "source": []
  }
 ],
 "metadata": {
  "kernelspec": {
   "display_name": "Python 3",
   "language": "python",
   "name": "python3"
  },
  "language_info": {
   "codemirror_mode": {
    "name": "ipython",
    "version": 3
   },
   "file_extension": ".py",
   "mimetype": "text/x-python",
   "name": "python",
   "nbconvert_exporter": "python",
   "pygments_lexer": "ipython3",
   "version": "3.6.3"
  }
 },
 "nbformat": 4,
 "nbformat_minor": 4
}
