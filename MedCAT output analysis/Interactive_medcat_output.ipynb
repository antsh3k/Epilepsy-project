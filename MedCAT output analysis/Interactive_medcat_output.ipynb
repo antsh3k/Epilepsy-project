{
 "cells": [
  {
   "cell_type": "markdown",
   "metadata": {},
   "source": [
    "# Analysing SNOMED annotations from the MedCAT output\n"
   ]
  },
  {
   "cell_type": "code",
   "execution_count": null,
   "metadata": {},
   "outputs": [],
   "source": [
    "# Import packages\n",
    "import json\n",
    "import pandas as pd\n",
    "import matplotlib.pyplot as plt\n",
    "from scipy import stats\n",
    "from medcat.cdb import CDB\n",
    "import os\n",
    "import plotly as py\n",
    "import plotly.graph_objs as go\n",
    "from IPython.display import display, HTML\n",
    "from datetime import datetime\n",
    "\n",
    "# setup offline mode\n",
    "py.offline.init_notebook_mode(connected=True)\n",
    "\n",
    "%matplotlib inline"
   ]
  },
  {
   "cell_type": "markdown",
   "metadata": {},
   "source": [
    "## Load Concept database (CDB) used for the project"
   ]
  },
  {
   "cell_type": "code",
   "execution_count": null,
   "metadata": {},
   "outputs": [],
   "source": [
    "cdb = CDB()\n",
    "cdb.load_dict(os.path.join(\"F:/\", \"snomed.dat\"))  # path to concept database"
   ]
  },
  {
   "cell_type": "markdown",
   "metadata": {},
   "source": [
    "## Load MedCAT output"
   ]
  },
  {
   "cell_type": "code",
   "execution_count": null,
   "metadata": {},
   "outputs": [],
   "source": [
    "file_path = r\"C:\\Users\\k1767582\\Desktop\\MedCat output/\"  # file path  \n",
    "file = r\"20200110_1000 Epilepsy letters_with_txt.json\"  # file name\n",
    "with open(file_path + file) as f:\n",
    "    data2 = json.load(f)\n",
    "print(\"The number of annotated documents is\", len(data2['documents']))  # number of documents"
   ]
  },
  {
   "cell_type": "code",
   "execution_count": null,
   "metadata": {},
   "outputs": [],
   "source": [
    "# Read document information to doc_df\n",
    "doc_df = pd.DataFrame.from_dict(data2['documents'])\n",
    "doc_df['last_modified'] = pd.to_datetime(doc_df['last_modified'])\n",
    "\n",
    "# Read annotations to ann_df\n",
    "ann_df = pd.DataFrame([a for d in data2['documents'] for a in d['annotations']])\n",
    "ann_df['last_modified'] = pd.to_datetime(ann_df['last_modified'])\n",
    "display(ann_df) # display MedCAT output\n"
   ]
  },
  {
   "cell_type": "markdown",
   "metadata": {},
   "source": [
    "### Write to CSV"
   ]
  },
  {
   "cell_type": "code",
   "execution_count": null,
   "metadata": {},
   "outputs": [],
   "source": [
    "file_name = input(\"Enter file name here: \")\n",
    "file_path = r\"C:\\Users\\k1767582\\Documents\\GitHub\\Epilepsy-project/\"\n",
    "ann_df.to_csv(file_path+file_name+\".csv\")"
   ]
  },
  {
   "cell_type": "markdown",
   "metadata": {},
   "source": [
    "## User Statistics\n",
    "-------\n"
   ]
  },
  {
   "cell_type": "code",
   "execution_count": null,
   "metadata": {},
   "outputs": [],
   "source": [
    "print(\"The number of correct annotations is\",\n",
    "      ann_df[~ann_df['deleted'] & ~ann_df['alternative'] & ~ann_df['manually_created']].shape[0])  # Correct\n",
    "print(\"The number of deleted annotations is\", ann_df[ann_df['deleted']].shape[0])  # Deleted\n",
    "print(\"The number of alternative concepts are\", ann_df[ann_df['alternative']].shape[0])  # Alternatives\n",
    "print(\"The number of annotations added\", ann_df[ann_df['manually_created']].shape[0])  # Add annotation\n",
    "#display(ann_df.groupby('user').count())\n",
    "display(\"The work each user has done is as follows:\", ann_df.groupby('user').agg({'validated':'count', 'correct': 'sum', 'alternative': 'sum', 'manually_created': 'sum', 'deleted':'sum', 'killed':'sum'}))  # annotator performane in exercise"
   ]
  },
  {
   "cell_type": "markdown",
   "metadata": {},
   "source": [
    "## Required Functions"
   ]
  },
  {
   "cell_type": "code",
   "execution_count": null,
   "metadata": {},
   "outputs": [],
   "source": [
    "def concept_count(df, concepts_freq=10):\n",
    "    \"\"\"\n",
    "    This function will group by concept ID's in descending order by a default of concept frequency of 10. \\n\n",
    "    :param df: The DataFrame containing the medcat output to analyse, Use the ann_df.\n",
    "    :param concepts_freq: Will return the frequency of concept mentions >= the integer value.\n",
    "    :return: Plot of top concept frequencies in medcat output.\n",
    "    \"\"\"\n",
    "    \n",
    "    # Describe Cui\n",
    "    groups_by_cui = df.groupby('cui')\n",
    "    # print(list(groups_by_cui))\n",
    "\n",
    "    # Plot the count of each CUI\n",
    "    a = groups_by_cui.count()\n",
    "    a = a.sort_values(by='acc', ascending=False)\n",
    "\n",
    "    # convert cui to pretty name\n",
    "    pretty_name = []\n",
    "    a = a.reset_index()\n",
    "\n",
    "    for index, row in a.iterrows():\n",
    "        value = row[\"cui\"]\n",
    "        p_name = cdb.cui2pretty_name[value]\n",
    "        pretty_name.append(p_name)\n",
    "    a[\"Concept_name\"] = pretty_name\n",
    "    #print(a)\n",
    "\n",
    "    # Filter df by top concept frequency\n",
    "    a = a[a['acc'] >= concepts_freq]\n",
    "\n",
    "    # Plot box plot of snomed concept frequency\n",
    "    x = a[\"Concept_name\"]\n",
    "    y = a[\"acc\"]\n",
    "    # Plot Layout\n",
    "    layout = go.Layout(\n",
    "        title = \"Count of SNOMED concepts >= {}\".format(concepts_freq),\n",
    "        yaxis=dict(\n",
    "            title='Total Concept Count'\n",
    "        ),\n",
    "    )\n",
    "\n",
    "    fig = go.Figure(data=[go.Bar(x=x, y=y)], layout=layout)\n",
    "    \n",
    "    # Filename with datetime\n",
    "    now = datetime.now()\n",
    "    current_time = now.strftime(\"%Y%m%d%H%M%S\")\n",
    "    filename = current_time + \"_Concept_count.html\"\n",
    "    \n",
    "    #save figure\n",
    "    py.offline.plot(fig, filename = filename, auto_open=True)  # Saves figure to current_time + \"_Concept_count.html\".html   \n",
    "    return\n",
    "\n",
    "\n",
    "def medcat_lr(df, top_freq_concepts=None):\n",
    "    \"\"\"\n",
    "    This function will return the learning rate for overall MedCAT performance.\n",
    "    :param df: Use the doc_df\n",
    "    :param top_freq_concepts: Filter by the top frequency concepts\n",
    "    :return:\n",
    "    \"\"\"\n",
    "    # TODO create a top_freq_concepts option\n",
    "    doc_id = []\n",
    "    no_correct = []\n",
    "    value = []\n",
    "    for index, row in df.iterrows():\n",
    "        temp_df = pd.DataFrame([a for a in row['annotations']])\n",
    "        for index, row2 in temp_df.iterrows():\n",
    "            doc_id.append(row['id'])\n",
    "            no_correct.append(row2[\"correct\"])\n",
    "            value.append(row2[\"value\"])\n",
    "    summary_df = pd.DataFrame(columns=[\"doc_id\", \"correct\", \"value\"])\n",
    "    summary_df[\"doc_id\"] = doc_id\n",
    "    summary_df[\"correct\"] = no_correct\n",
    "    summary_df[\"value\"] = value\n",
    "\n",
    "    # Calculate accuracy value of each grouped synonym\n",
    "    by_name = summary_df.groupby(['value']) \\\n",
    "        .agg({'doc_id': 'count', 'correct': 'sum'}) \\\n",
    "        .rename(columns={'doc_id': 'Value count', 'correct': 'Correct sum'})\n",
    "    by_name['Percent Acc'] = by_name['Correct sum'] / by_name['Value count'] * 100\n",
    "    display(by_name)\n",
    "    # TODO test if working\n",
    "    display(by_name[by_name['Percent Acc'] == 0].sort_values(by=['Value count'], ascending=False))\n",
    "\n",
    "    # Calculate accuracy per doc\n",
    "    accuracy_by_doc = summary_df.groupby([\"doc_id\"]).agg({'correct': 'sum', 'value': 'count'}) \\\n",
    "        .reset_index() \\\n",
    "        .rename(columns={'correct': 'Correct sum', 'value': 'Value count'})\n",
    "    accuracy_by_doc.index = accuracy_by_doc.index + 1  # shift index +1\n",
    "\n",
    "    accuracy_by_doc['Percent Acc'] = accuracy_by_doc['Correct sum'] / accuracy_by_doc['Value count'] * 100\n",
    "    # Filter to only show documents with number of annotations > 10\n",
    "    accuracy_by_doc = accuracy_by_doc[accuracy_by_doc['Value count'] >= 10]\n",
    "    # Filter erroneous documents with 0 acc\n",
    "    accuracy_by_doc = accuracy_by_doc[accuracy_by_doc['Percent Acc'] >= 1]\n",
    "    display(accuracy_by_doc)\n",
    "\n",
    "    # Plot\n",
    "    x = accuracy_by_doc.index\n",
    "    y = accuracy_by_doc['Percent Acc']\n",
    "\n",
    "    # Add trend line\n",
    "    slope, intercept, r_value, p_value, std_err = stats\\\n",
    "        .linregress(x, y)\n",
    "    r2 = round(r_value**2, 2)\n",
    "    print(\"slope={}, intercept={}, r_value={}, p_value={}, std_err={}\"\n",
    "          .format(round(slope, 2), round(intercept, 2), round(r_value, 2), p_value, round(std_err, 2)))\n",
    "\n",
    "    # Plot accuracy\n",
    "    plt.scatter(x, y, marker='o', s=accuracy_by_doc['Value count'], label=\"Frequency of annotations\")\n",
    "    plt.plot(x, intercept + slope*x, 'r', label=\"r$^2$ = {}\".format(r2))\n",
    "    # Format figure layout\n",
    "    plt.title(\"MedCAT Learning Rate\")\n",
    "    plt.ylabel(\"% Confirmed Accurate\")\n",
    "    plt.ylim(bottom=0, top=110)\n",
    "    plt.xlim(left=0)\n",
    "    plt.xlabel(\"Document Number\")\n",
    "    plt.legend(loc='lower right')\n",
    "    plt.show()\n",
    "    return\n"
   ]
  },
  {
   "cell_type": "markdown",
   "metadata": {},
   "source": [
    "## Produce Figures\n",
    "-------------------\n"
   ]
  },
  {
   "cell_type": "markdown",
   "metadata": {},
   "source": [
    "### Concept Count plot"
   ]
  },
  {
   "cell_type": "code",
   "execution_count": 1,
   "metadata": {},
   "outputs": [],
   "source": [
    "concept_count(ann_df)"
   ]
  },
  {
   "cell_type": "markdown",
   "metadata": {},
   "source": [
    "### MedCAT learning rate plot"
   ]
  },
  {
   "cell_type": "code",
   "execution_count": null,
   "metadata": {},
   "outputs": [],
   "source": [
    "medcat_lr(doc_df)"
   ]
  },
  {
   "cell_type": "code",
   "execution_count": null,
   "metadata": {},
   "outputs": [],
   "source": []
  }
 ],
 "metadata": {
  "kernelspec": {
   "display_name": "Python 3",
   "language": "python",
   "name": "python3"
  },
  "language_info": {
   "codemirror_mode": {
    "name": "ipython",
    "version": 3
   },
   "file_extension": ".py",
   "mimetype": "text/x-python",
   "name": "python",
   "nbconvert_exporter": "python",
   "pygments_lexer": "ipython3",
   "version": "3.6.3"
  }
 },
 "nbformat": 4,
 "nbformat_minor": 1
}
