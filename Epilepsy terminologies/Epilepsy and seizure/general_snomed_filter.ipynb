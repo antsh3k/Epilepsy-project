{
 "cells": [
  {
   "cell_type": "code",
   "execution_count": 1,
   "metadata": {},
   "outputs": [],
   "source": [
    "import pandas as pd\n",
    "import json\n",
    "import os"
   ]
  },
  {
   "cell_type": "markdown",
   "metadata": {},
   "source": [
    "# Paths"
   ]
  },
  {
   "cell_type": "code",
   "execution_count": 2,
   "metadata": {},
   "outputs": [],
   "source": [
    "save_path = \"/data/AS/Epilepsy/General_MedCAT_SNOMED_FILTER_dicts\"\n",
    "if not os.path.exists(save_path):\n",
    "    os.makedirs(save_path)\n",
    "    with open(os.path.join(save_path,\"ReadME.txt\"), \"w\") as text_file:\n",
    "        text_file.write(f\"These MedCATtrainerdictionaries were created from {os.getcwd()}\")\n",
    "    print(\"New folder created\")"
   ]
  },
  {
   "cell_type": "code",
   "execution_count": 3,
   "metadata": {},
   "outputs": [],
   "source": [
    "# open working with snomed tools\n",
    "path = '/data/SNOMED/20201001_SNOMED/'\n",
    "with open(os.path.join(path,\"20200930_isa_rela_pt2ch.json\")) as json_file:\n",
    "    pt2ch = json.load(json_file)\n",
    "with open(os.path.join(path, \"20200930_SCTID2name.json\")) as json_file:\n",
    "    SCTID2name = json.load(json_file)\n",
    "\n",
    "\n",
    "def get_all_children(snomed): \n",
    "    \"\"\"Get all children function\"\"\"\n",
    "    result = [] \n",
    "    stack = [snomed] \n",
    "    while len(stack) != 0: \n",
    "        # remove the last element from the stack\n",
    "        current_snomed = stack.pop()\n",
    "        current_snomed_parent = pt2ch.get(current_snomed, [])\n",
    "        stack.extend(current_snomed_parent)\n",
    "        result.append(current_snomed)\n",
    "    result = list(set(result))\n",
    "    return result\n"
   ]
  },
  {
   "cell_type": "code",
   "execution_count": 4,
   "metadata": {},
   "outputs": [],
   "source": [
    "# Add diseases, symptoms, medications"
   ]
  },
  {
   "cell_type": "code",
   "execution_count": 61,
   "metadata": {},
   "outputs": [],
   "source": [
    "terms = [\n",
    "    '404684003',  # Clinical finding (finding)\n",
    "    '410942007',  # Drug or medicament (substance)\n",
    "    '10363601000001109',  # UK product (product)\n",
    "]"
   ]
  },
  {
   "cell_type": "code",
   "execution_count": 62,
   "metadata": {},
   "outputs": [
    {
     "name": "stdout",
     "output_type": "stream",
     "text": [
      "CPU times: user 4.22 s, sys: 20.7 ms, total: 4.24 s\n",
      "Wall time: 4.23 s\n"
     ]
    }
   ],
   "source": [
    "%%time\n",
    "general_snomed_filter =[]\n",
    "for term in terms:\n",
    "    general_snomed_filter.extend(get_all_children(term))"
   ]
  },
  {
   "cell_type": "code",
   "execution_count": 77,
   "metadata": {},
   "outputs": [
    {
     "data": {
      "text/plain": [
       "315194"
      ]
     },
     "execution_count": 77,
     "metadata": {},
     "output_type": "execute_result"
    }
   ],
   "source": [
    "len(general_snomed_filter)"
   ]
  },
  {
   "cell_type": "code",
   "execution_count": 64,
   "metadata": {},
   "outputs": [],
   "source": [
    "# Additional terms\n",
    "terms_add = ['765060000',\n",
    "             '26079004',\n",
    "             '933221000000107',\n",
    "             '447033006',\n",
    "             '77386006',\n",
    "             '19647005',\n",
    "             '267078001',\n",
    "             '9896001000001108',\n",
    "             '413712001',\n",
    "             '372588000',\n",
    "             '13280501000001105',\n",
    "             '17450006',\n",
    "             '9369101000001104',\n",
    "             '85214009',\n",
    "             '9240001000001109',\n",
    "             '249966004',\n",
    "             '31394004',\n",
    "             '807005', #Excision of brain (procedure)\n",
    "            ]"
   ]
  },
  {
   "cell_type": "code",
   "execution_count": 76,
   "metadata": {},
   "outputs": [],
   "source": [
    "for term in terms_add:\n",
    "    if term not in general_snomed_filter:\n",
    "        print(SCTID2name[term], term)"
   ]
  },
  {
   "cell_type": "code",
   "execution_count": 65,
   "metadata": {},
   "outputs": [],
   "source": [
    "for term in terms_add:\n",
    "    general_snomed_filter.extend(get_all_children(term))\n",
    "general_snomed_filter = list(set(general_snomed_filter))"
   ]
  },
  {
   "cell_type": "code",
   "execution_count": null,
   "metadata": {},
   "outputs": [],
   "source": []
  },
  {
   "cell_type": "code",
   "execution_count": 66,
   "metadata": {},
   "outputs": [
    {
     "data": {
      "text/plain": [
       "315194"
      ]
     },
     "execution_count": 66,
     "metadata": {},
     "output_type": "execute_result"
    }
   ],
   "source": [
    "len(general_snomed_filter)"
   ]
  },
  {
   "cell_type": "code",
   "execution_count": 67,
   "metadata": {},
   "outputs": [],
   "source": [
    "with open(\"20201001_general_snomed_filter.json\", \"w\") as json_file:\n",
    "    json.dump(general_snomed_filter,json_file)"
   ]
  },
  {
   "cell_type": "code",
   "execution_count": null,
   "metadata": {},
   "outputs": [],
   "source": []
  },
  {
   "cell_type": "markdown",
   "metadata": {},
   "source": [
    "# test if terms in filter"
   ]
  },
  {
   "cell_type": "code",
   "execution_count": 71,
   "metadata": {},
   "outputs": [
    {
     "data": {
      "text/plain": [
       "False"
      ]
     },
     "execution_count": 71,
     "metadata": {},
     "output_type": "execute_result"
    }
   ],
   "source": [
    "# Add cardiac syncope\n",
    "'788877005' in general_snomed_filter"
   ]
  },
  {
   "cell_type": "code",
   "execution_count": 69,
   "metadata": {},
   "outputs": [
    {
     "ename": "KeyError",
     "evalue": "'788877005'",
     "traceback": [
      "\u001b[0;31m\u001b[0m",
      "\u001b[0;31mKeyError\u001b[0mTraceback (most recent call last)",
      "\u001b[0;32m<ipython-input-69-cf5bc9126a5a>\u001b[0m in \u001b[0;36m<module>\u001b[0;34m\u001b[0m\n\u001b[0;32m----> 1\u001b[0;31m \u001b[0mSCTID2name\u001b[0m\u001b[0;34m[\u001b[0m\u001b[0;34m'788877005'\u001b[0m\u001b[0;34m]\u001b[0m\u001b[0;34m\u001b[0m\u001b[0;34m\u001b[0m\u001b[0m\n\u001b[0m",
      "\u001b[0;31mKeyError\u001b[0m: '788877005'"
     ],
     "output_type": "error"
    }
   ],
   "source": [
    "SCTID2name['788877005']"
   ]
  },
  {
   "cell_type": "code",
   "execution_count": 54,
   "metadata": {},
   "outputs": [],
   "source": [
    "import re"
   ]
  },
  {
   "cell_type": "code",
   "execution_count": 55,
   "metadata": {},
   "outputs": [
    {
     "name": "stdout",
     "output_type": "stream",
     "text": [
      "21470009 Syncope anginosa (disorder)\n",
      "31457007 Effort syncope (disorder)\n",
      "51723007 Carotid sinus syncope (disorder)\n",
      "58077008 Hypotensive syncope (disorder)\n",
      "89797005 Heat syncope (disorder)\n",
      "90129003 Tussive syncope (disorder)\n",
      "162713002 On examination - collapse - syncope (disorder)\n",
      "234166002 Vasovagal syncope due to immersion (disorder)\n",
      "234167006 Situational syncope (disorder)\n",
      "234168001 Micturition syncope (disorder)\n",
      "234169009 Defecation syncope (disorder)\n",
      "234170005 Deglutition syncope (disorder)\n",
      "242030003 Syncope caused by centrifugal force in flying (disorder)\n",
      "263545003 Mechanism of syncope (attribute)\n",
      "271594007 Syncope (disorder)\n",
      "272030005 Syncope symptom (finding)\n",
      "309585006 Syncope and collapse (disorder)\n",
      "386572005 Psychogenic syncope (disorder)\n",
      "398665005 Vasovagal syncope (disorder)\n",
      "427461000 Near syncope (disorder)\n",
      "430815001 Family history of syncope (situation)\n",
      "432524006 Syncope due to orthostatic hypotension (disorder)\n",
      "438113009 Convulsive syncope (disorder)\n",
      "445535007 Syncope witnessed by provider of history other than subject (disorder)\n",
      "719823007 Ventricular extrasystoles with syncope, perodactyly and Robin sequence syndrome (disorder)\n",
      "723148003 Syncope due to autonomic failure (disorder)\n",
      "674191000119109 History of syncope (situation)\n"
     ]
    }
   ],
   "source": [
    "for key, value in SCTID2name.items():\n",
    "    if \"syncope\" in value or \"Syncope\" in value:\n",
    "        print(key, value)"
   ]
  },
  {
   "cell_type": "code",
   "execution_count": 72,
   "metadata": {},
   "outputs": [
    {
     "data": {
      "text/plain": [
       "True"
      ]
     },
     "execution_count": 72,
     "metadata": {},
     "output_type": "execute_result"
    }
   ],
   "source": [
    "'9214601000001102' in general_snomed_filter"
   ]
  },
  {
   "cell_type": "code",
   "execution_count": 78,
   "metadata": {},
   "outputs": [
    {
     "data": {
      "text/plain": [
       "True"
      ]
     },
     "execution_count": 78,
     "metadata": {},
     "output_type": "execute_result"
    }
   ],
   "source": [
    "'160592001' in general_snomed_filter"
   ]
  },
  {
   "cell_type": "code",
   "execution_count": 74,
   "metadata": {},
   "outputs": [
    {
     "data": {
      "text/plain": [
       "'Excision of temporal lobe (procedure)'"
      ]
     },
     "execution_count": 74,
     "metadata": {},
     "output_type": "execute_result"
    }
   ],
   "source": [
    "SCTID2name['445942002']"
   ]
  },
  {
   "cell_type": "code",
   "execution_count": 75,
   "metadata": {},
   "outputs": [
    {
     "data": {
      "text/plain": [
       "True"
      ]
     },
     "execution_count": 75,
     "metadata": {},
     "output_type": "execute_result"
    }
   ],
   "source": [
    "'13280501000001105' in general_snomed_filter"
   ]
  },
  {
   "cell_type": "code",
   "execution_count": 14,
   "metadata": {},
   "outputs": [],
   "source": []
  },
  {
   "cell_type": "code",
   "execution_count": null,
   "metadata": {},
   "outputs": [],
   "source": [
    " "
   ]
  }
 ],
 "metadata": {
  "kernelspec": {
   "display_name": "Python 3",
   "language": "python",
   "name": "python3"
  },
  "language_info": {
   "codemirror_mode": {
    "name": "ipython",
    "version": 3
   },
   "file_extension": ".py",
   "mimetype": "text/x-python",
   "name": "python",
   "nbconvert_exporter": "python",
   "pygments_lexer": "ipython3",
   "version": "3.7.4"
  }
 },
 "nbformat": 4,
 "nbformat_minor": 4
}
